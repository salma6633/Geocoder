{
  "nbformat": 4,
  "nbformat_minor": 0,
  "metadata": {
    "colab": {
      "provenance": []
    },
    "kernelspec": {
      "name": "python3",
      "display_name": "Python 3"
    },
    "language_info": {
      "name": "python"
    }
  },
  "cells": [
    {
      "cell_type": "code",
      "source": [
        "!pip install pymongo sentence-transformers xgboost lightgbm"
      ],
      "metadata": {
        "colab": {
          "base_uri": "https://localhost:8080/"
        },
        "id": "IJxJ5zKpYCYx",
        "outputId": "41adffaa-1931-4bb1-f368-d9bea2e944c9"
      },
      "execution_count": 1,
      "outputs": [
        {
          "output_type": "stream",
          "name": "stdout",
          "text": [
            "Collecting pymongo\n",
            "  Downloading pymongo-4.13.2-cp311-cp311-manylinux_2_17_x86_64.manylinux2014_x86_64.whl.metadata (22 kB)\n",
            "Requirement already satisfied: sentence-transformers in /usr/local/lib/python3.11/dist-packages (4.1.0)\n",
            "Requirement already satisfied: xgboost in /usr/local/lib/python3.11/dist-packages (2.1.4)\n",
            "Requirement already satisfied: lightgbm in /usr/local/lib/python3.11/dist-packages (4.5.0)\n",
            "Collecting dnspython<3.0.0,>=1.16.0 (from pymongo)\n",
            "  Downloading dnspython-2.7.0-py3-none-any.whl.metadata (5.8 kB)\n",
            "Requirement already satisfied: transformers<5.0.0,>=4.41.0 in /usr/local/lib/python3.11/dist-packages (from sentence-transformers) (4.53.1)\n",
            "Requirement already satisfied: tqdm in /usr/local/lib/python3.11/dist-packages (from sentence-transformers) (4.67.1)\n",
            "Requirement already satisfied: torch>=1.11.0 in /usr/local/lib/python3.11/dist-packages (from sentence-transformers) (2.6.0+cu124)\n",
            "Requirement already satisfied: scikit-learn in /usr/local/lib/python3.11/dist-packages (from sentence-transformers) (1.6.1)\n",
            "Requirement already satisfied: scipy in /usr/local/lib/python3.11/dist-packages (from sentence-transformers) (1.15.3)\n",
            "Requirement already satisfied: huggingface-hub>=0.20.0 in /usr/local/lib/python3.11/dist-packages (from sentence-transformers) (0.33.2)\n",
            "Requirement already satisfied: Pillow in /usr/local/lib/python3.11/dist-packages (from sentence-transformers) (11.2.1)\n",
            "Requirement already satisfied: typing_extensions>=4.5.0 in /usr/local/lib/python3.11/dist-packages (from sentence-transformers) (4.14.1)\n",
            "Requirement already satisfied: numpy in /usr/local/lib/python3.11/dist-packages (from xgboost) (2.0.2)\n",
            "Requirement already satisfied: nvidia-nccl-cu12 in /usr/local/lib/python3.11/dist-packages (from xgboost) (2.21.5)\n",
            "Requirement already satisfied: filelock in /usr/local/lib/python3.11/dist-packages (from huggingface-hub>=0.20.0->sentence-transformers) (3.18.0)\n",
            "Requirement already satisfied: fsspec>=2023.5.0 in /usr/local/lib/python3.11/dist-packages (from huggingface-hub>=0.20.0->sentence-transformers) (2025.3.2)\n",
            "Requirement already satisfied: packaging>=20.9 in /usr/local/lib/python3.11/dist-packages (from huggingface-hub>=0.20.0->sentence-transformers) (24.2)\n",
            "Requirement already satisfied: pyyaml>=5.1 in /usr/local/lib/python3.11/dist-packages (from huggingface-hub>=0.20.0->sentence-transformers) (6.0.2)\n",
            "Requirement already satisfied: requests in /usr/local/lib/python3.11/dist-packages (from huggingface-hub>=0.20.0->sentence-transformers) (2.32.3)\n",
            "Requirement already satisfied: hf-xet<2.0.0,>=1.1.2 in /usr/local/lib/python3.11/dist-packages (from huggingface-hub>=0.20.0->sentence-transformers) (1.1.5)\n",
            "Requirement already satisfied: networkx in /usr/local/lib/python3.11/dist-packages (from torch>=1.11.0->sentence-transformers) (3.5)\n",
            "Requirement already satisfied: jinja2 in /usr/local/lib/python3.11/dist-packages (from torch>=1.11.0->sentence-transformers) (3.1.6)\n",
            "Collecting nvidia-cuda-nvrtc-cu12==12.4.127 (from torch>=1.11.0->sentence-transformers)\n",
            "  Downloading nvidia_cuda_nvrtc_cu12-12.4.127-py3-none-manylinux2014_x86_64.whl.metadata (1.5 kB)\n",
            "Collecting nvidia-cuda-runtime-cu12==12.4.127 (from torch>=1.11.0->sentence-transformers)\n",
            "  Downloading nvidia_cuda_runtime_cu12-12.4.127-py3-none-manylinux2014_x86_64.whl.metadata (1.5 kB)\n",
            "Collecting nvidia-cuda-cupti-cu12==12.4.127 (from torch>=1.11.0->sentence-transformers)\n",
            "  Downloading nvidia_cuda_cupti_cu12-12.4.127-py3-none-manylinux2014_x86_64.whl.metadata (1.6 kB)\n",
            "Collecting nvidia-cudnn-cu12==9.1.0.70 (from torch>=1.11.0->sentence-transformers)\n",
            "  Downloading nvidia_cudnn_cu12-9.1.0.70-py3-none-manylinux2014_x86_64.whl.metadata (1.6 kB)\n",
            "Collecting nvidia-cublas-cu12==12.4.5.8 (from torch>=1.11.0->sentence-transformers)\n",
            "  Downloading nvidia_cublas_cu12-12.4.5.8-py3-none-manylinux2014_x86_64.whl.metadata (1.5 kB)\n",
            "Collecting nvidia-cufft-cu12==11.2.1.3 (from torch>=1.11.0->sentence-transformers)\n",
            "  Downloading nvidia_cufft_cu12-11.2.1.3-py3-none-manylinux2014_x86_64.whl.metadata (1.5 kB)\n",
            "Collecting nvidia-curand-cu12==10.3.5.147 (from torch>=1.11.0->sentence-transformers)\n",
            "  Downloading nvidia_curand_cu12-10.3.5.147-py3-none-manylinux2014_x86_64.whl.metadata (1.5 kB)\n",
            "Collecting nvidia-cusolver-cu12==11.6.1.9 (from torch>=1.11.0->sentence-transformers)\n",
            "  Downloading nvidia_cusolver_cu12-11.6.1.9-py3-none-manylinux2014_x86_64.whl.metadata (1.6 kB)\n",
            "Collecting nvidia-cusparse-cu12==12.3.1.170 (from torch>=1.11.0->sentence-transformers)\n",
            "  Downloading nvidia_cusparse_cu12-12.3.1.170-py3-none-manylinux2014_x86_64.whl.metadata (1.6 kB)\n",
            "Requirement already satisfied: nvidia-cusparselt-cu12==0.6.2 in /usr/local/lib/python3.11/dist-packages (from torch>=1.11.0->sentence-transformers) (0.6.2)\n",
            "Requirement already satisfied: nvidia-nvtx-cu12==12.4.127 in /usr/local/lib/python3.11/dist-packages (from torch>=1.11.0->sentence-transformers) (12.4.127)\n",
            "Collecting nvidia-nvjitlink-cu12==12.4.127 (from torch>=1.11.0->sentence-transformers)\n",
            "  Downloading nvidia_nvjitlink_cu12-12.4.127-py3-none-manylinux2014_x86_64.whl.metadata (1.5 kB)\n",
            "Requirement already satisfied: triton==3.2.0 in /usr/local/lib/python3.11/dist-packages (from torch>=1.11.0->sentence-transformers) (3.2.0)\n",
            "Requirement already satisfied: sympy==1.13.1 in /usr/local/lib/python3.11/dist-packages (from torch>=1.11.0->sentence-transformers) (1.13.1)\n",
            "Requirement already satisfied: mpmath<1.4,>=1.1.0 in /usr/local/lib/python3.11/dist-packages (from sympy==1.13.1->torch>=1.11.0->sentence-transformers) (1.3.0)\n",
            "Requirement already satisfied: regex!=2019.12.17 in /usr/local/lib/python3.11/dist-packages (from transformers<5.0.0,>=4.41.0->sentence-transformers) (2024.11.6)\n",
            "Requirement already satisfied: tokenizers<0.22,>=0.21 in /usr/local/lib/python3.11/dist-packages (from transformers<5.0.0,>=4.41.0->sentence-transformers) (0.21.2)\n",
            "Requirement already satisfied: safetensors>=0.4.3 in /usr/local/lib/python3.11/dist-packages (from transformers<5.0.0,>=4.41.0->sentence-transformers) (0.5.3)\n",
            "Requirement already satisfied: joblib>=1.2.0 in /usr/local/lib/python3.11/dist-packages (from scikit-learn->sentence-transformers) (1.5.1)\n",
            "Requirement already satisfied: threadpoolctl>=3.1.0 in /usr/local/lib/python3.11/dist-packages (from scikit-learn->sentence-transformers) (3.6.0)\n",
            "Requirement already satisfied: MarkupSafe>=2.0 in /usr/local/lib/python3.11/dist-packages (from jinja2->torch>=1.11.0->sentence-transformers) (3.0.2)\n",
            "Requirement already satisfied: charset-normalizer<4,>=2 in /usr/local/lib/python3.11/dist-packages (from requests->huggingface-hub>=0.20.0->sentence-transformers) (3.4.2)\n",
            "Requirement already satisfied: idna<4,>=2.5 in /usr/local/lib/python3.11/dist-packages (from requests->huggingface-hub>=0.20.0->sentence-transformers) (3.10)\n",
            "Requirement already satisfied: urllib3<3,>=1.21.1 in /usr/local/lib/python3.11/dist-packages (from requests->huggingface-hub>=0.20.0->sentence-transformers) (2.4.0)\n",
            "Requirement already satisfied: certifi>=2017.4.17 in /usr/local/lib/python3.11/dist-packages (from requests->huggingface-hub>=0.20.0->sentence-transformers) (2025.7.9)\n",
            "Downloading pymongo-4.13.2-cp311-cp311-manylinux_2_17_x86_64.manylinux2014_x86_64.whl (1.4 MB)\n",
            "\u001b[2K   \u001b[90m━━━━━━━━━━━━━━━━━━━━━━━━━━━━━━━━━━━━━━━━\u001b[0m \u001b[32m1.4/1.4 MB\u001b[0m \u001b[31m29.7 MB/s\u001b[0m eta \u001b[36m0:00:00\u001b[0m\n",
            "\u001b[?25hDownloading dnspython-2.7.0-py3-none-any.whl (313 kB)\n",
            "\u001b[2K   \u001b[90m━━━━━━━━━━━━━━━━━━━━━━━━━━━━━━━━━━━━━━━━\u001b[0m \u001b[32m313.6/313.6 kB\u001b[0m \u001b[31m21.5 MB/s\u001b[0m eta \u001b[36m0:00:00\u001b[0m\n",
            "\u001b[?25hDownloading nvidia_cublas_cu12-12.4.5.8-py3-none-manylinux2014_x86_64.whl (363.4 MB)\n",
            "\u001b[2K   \u001b[90m━━━━━━━━━━━━━━━━━━━━━━━━━━━━━━━━━━━━━━━━\u001b[0m \u001b[32m363.4/363.4 MB\u001b[0m \u001b[31m3.7 MB/s\u001b[0m eta \u001b[36m0:00:00\u001b[0m\n",
            "\u001b[?25hDownloading nvidia_cuda_cupti_cu12-12.4.127-py3-none-manylinux2014_x86_64.whl (13.8 MB)\n",
            "\u001b[2K   \u001b[90m━━━━━━━━━━━━━━━━━━━━━━━━━━━━━━━━━━━━━━━━\u001b[0m \u001b[32m13.8/13.8 MB\u001b[0m \u001b[31m49.2 MB/s\u001b[0m eta \u001b[36m0:00:00\u001b[0m\n",
            "\u001b[?25hDownloading nvidia_cuda_nvrtc_cu12-12.4.127-py3-none-manylinux2014_x86_64.whl (24.6 MB)\n",
            "\u001b[2K   \u001b[90m━━━━━━━━━━━━━━━━━━━━━━━━━━━━━━━━━━━━━━━━\u001b[0m \u001b[32m24.6/24.6 MB\u001b[0m \u001b[31m49.4 MB/s\u001b[0m eta \u001b[36m0:00:00\u001b[0m\n",
            "\u001b[?25hDownloading nvidia_cuda_runtime_cu12-12.4.127-py3-none-manylinux2014_x86_64.whl (883 kB)\n",
            "\u001b[2K   \u001b[90m━━━━━━━━━━━━━━━━━━━━━━━━━━━━━━━━━━━━━━━━\u001b[0m \u001b[32m883.7/883.7 kB\u001b[0m \u001b[31m29.9 MB/s\u001b[0m eta \u001b[36m0:00:00\u001b[0m\n",
            "\u001b[?25hDownloading nvidia_cudnn_cu12-9.1.0.70-py3-none-manylinux2014_x86_64.whl (664.8 MB)\n",
            "\u001b[2K   \u001b[90m━━━━━━━━━━━━━━━━━━━━━━━━━━━━━━━━━━━━━━━━\u001b[0m \u001b[32m664.8/664.8 MB\u001b[0m \u001b[31m2.6 MB/s\u001b[0m eta \u001b[36m0:00:00\u001b[0m\n",
            "\u001b[?25hDownloading nvidia_cufft_cu12-11.2.1.3-py3-none-manylinux2014_x86_64.whl (211.5 MB)\n",
            "\u001b[2K   \u001b[90m━━━━━━━━━━━━━━━━━━━━━━━━━━━━━━━━━━━━━━━━\u001b[0m \u001b[32m211.5/211.5 MB\u001b[0m \u001b[31m5.8 MB/s\u001b[0m eta \u001b[36m0:00:00\u001b[0m\n",
            "\u001b[?25hDownloading nvidia_curand_cu12-10.3.5.147-py3-none-manylinux2014_x86_64.whl (56.3 MB)\n",
            "\u001b[2K   \u001b[90m━━━━━━━━━━━━━━━━━━━━━━━━━━━━━━━━━━━━━━━━\u001b[0m \u001b[32m56.3/56.3 MB\u001b[0m \u001b[31m9.8 MB/s\u001b[0m eta \u001b[36m0:00:00\u001b[0m\n",
            "\u001b[?25hDownloading nvidia_cusolver_cu12-11.6.1.9-py3-none-manylinux2014_x86_64.whl (127.9 MB)\n",
            "\u001b[2K   \u001b[90m━━━━━━━━━━━━━━━━━━━━━━━━━━━━━━━━━━━━━━━━\u001b[0m \u001b[32m127.9/127.9 MB\u001b[0m \u001b[31m7.8 MB/s\u001b[0m eta \u001b[36m0:00:00\u001b[0m\n",
            "\u001b[?25hDownloading nvidia_cusparse_cu12-12.3.1.170-py3-none-manylinux2014_x86_64.whl (207.5 MB)\n",
            "\u001b[2K   \u001b[90m━━━━━━━━━━━━━━━━━━━━━━━━━━━━━━━━━━━━━━━━\u001b[0m \u001b[32m207.5/207.5 MB\u001b[0m \u001b[31m5.7 MB/s\u001b[0m eta \u001b[36m0:00:00\u001b[0m\n",
            "\u001b[?25hDownloading nvidia_nvjitlink_cu12-12.4.127-py3-none-manylinux2014_x86_64.whl (21.1 MB)\n",
            "\u001b[2K   \u001b[90m━━━━━━━━━━━━━━━━━━━━━━━━━━━━━━━━━━━━━━━━\u001b[0m \u001b[32m21.1/21.1 MB\u001b[0m \u001b[31m97.2 MB/s\u001b[0m eta \u001b[36m0:00:00\u001b[0m\n",
            "\u001b[?25hInstalling collected packages: nvidia-nvjitlink-cu12, nvidia-curand-cu12, nvidia-cufft-cu12, nvidia-cuda-runtime-cu12, nvidia-cuda-nvrtc-cu12, nvidia-cuda-cupti-cu12, nvidia-cublas-cu12, dnspython, pymongo, nvidia-cusparse-cu12, nvidia-cudnn-cu12, nvidia-cusolver-cu12\n",
            "  Attempting uninstall: nvidia-nvjitlink-cu12\n",
            "    Found existing installation: nvidia-nvjitlink-cu12 12.5.82\n",
            "    Uninstalling nvidia-nvjitlink-cu12-12.5.82:\n",
            "      Successfully uninstalled nvidia-nvjitlink-cu12-12.5.82\n",
            "  Attempting uninstall: nvidia-curand-cu12\n",
            "    Found existing installation: nvidia-curand-cu12 10.3.6.82\n",
            "    Uninstalling nvidia-curand-cu12-10.3.6.82:\n",
            "      Successfully uninstalled nvidia-curand-cu12-10.3.6.82\n",
            "  Attempting uninstall: nvidia-cufft-cu12\n",
            "    Found existing installation: nvidia-cufft-cu12 11.2.3.61\n",
            "    Uninstalling nvidia-cufft-cu12-11.2.3.61:\n",
            "      Successfully uninstalled nvidia-cufft-cu12-11.2.3.61\n",
            "  Attempting uninstall: nvidia-cuda-runtime-cu12\n",
            "    Found existing installation: nvidia-cuda-runtime-cu12 12.5.82\n",
            "    Uninstalling nvidia-cuda-runtime-cu12-12.5.82:\n",
            "      Successfully uninstalled nvidia-cuda-runtime-cu12-12.5.82\n",
            "  Attempting uninstall: nvidia-cuda-nvrtc-cu12\n",
            "    Found existing installation: nvidia-cuda-nvrtc-cu12 12.5.82\n",
            "    Uninstalling nvidia-cuda-nvrtc-cu12-12.5.82:\n",
            "      Successfully uninstalled nvidia-cuda-nvrtc-cu12-12.5.82\n",
            "  Attempting uninstall: nvidia-cuda-cupti-cu12\n",
            "    Found existing installation: nvidia-cuda-cupti-cu12 12.5.82\n",
            "    Uninstalling nvidia-cuda-cupti-cu12-12.5.82:\n",
            "      Successfully uninstalled nvidia-cuda-cupti-cu12-12.5.82\n",
            "  Attempting uninstall: nvidia-cublas-cu12\n",
            "    Found existing installation: nvidia-cublas-cu12 12.5.3.2\n",
            "    Uninstalling nvidia-cublas-cu12-12.5.3.2:\n",
            "      Successfully uninstalled nvidia-cublas-cu12-12.5.3.2\n",
            "  Attempting uninstall: nvidia-cusparse-cu12\n",
            "    Found existing installation: nvidia-cusparse-cu12 12.5.1.3\n",
            "    Uninstalling nvidia-cusparse-cu12-12.5.1.3:\n",
            "      Successfully uninstalled nvidia-cusparse-cu12-12.5.1.3\n",
            "  Attempting uninstall: nvidia-cudnn-cu12\n",
            "    Found existing installation: nvidia-cudnn-cu12 9.3.0.75\n",
            "    Uninstalling nvidia-cudnn-cu12-9.3.0.75:\n",
            "      Successfully uninstalled nvidia-cudnn-cu12-9.3.0.75\n",
            "  Attempting uninstall: nvidia-cusolver-cu12\n",
            "    Found existing installation: nvidia-cusolver-cu12 11.6.3.83\n",
            "    Uninstalling nvidia-cusolver-cu12-11.6.3.83:\n",
            "      Successfully uninstalled nvidia-cusolver-cu12-11.6.3.83\n",
            "Successfully installed dnspython-2.7.0 nvidia-cublas-cu12-12.4.5.8 nvidia-cuda-cupti-cu12-12.4.127 nvidia-cuda-nvrtc-cu12-12.4.127 nvidia-cuda-runtime-cu12-12.4.127 nvidia-cudnn-cu12-9.1.0.70 nvidia-cufft-cu12-11.2.1.3 nvidia-curand-cu12-10.3.5.147 nvidia-cusolver-cu12-11.6.1.9 nvidia-cusparse-cu12-12.3.1.170 nvidia-nvjitlink-cu12-12.4.127 pymongo-4.13.2\n"
          ]
        }
      ]
    },
    {
      "cell_type": "code",
      "execution_count": 2,
      "metadata": {
        "id": "7dXML_-7SlHS"
      },
      "outputs": [],
      "source": [
        "\n",
        "from pymongo import MongoClient\n",
        "import pandas as pd\n",
        "import numpy as np\n",
        "import re\n",
        "from tqdm import tqdm\n",
        "from sentence_transformers import SentenceTransformer\n",
        "from sklearn.model_selection import train_test_split\n",
        "from sklearn.metrics import mean_squared_error, mean_absolute_error, r2_score\n",
        "from sklearn.multioutput import MultiOutputRegressor\n",
        "from xgboost import XGBRegressor\n",
        "from lightgbm import LGBMRegressor\n",
        "from sklearn.preprocessing import StandardScaler\n",
        "import torch\n",
        "import torch.nn as nn\n",
        "from torch.utils.data import TensorDataset, DataLoader\n",
        "import joblib\n"
      ]
    },
    {
      "cell_type": "code",
      "source": [
        "# ============================ #\n",
        "#      2. Connect to MongoDB   #\n",
        "# ============================ #\n",
        "\n",
        "username = \"salma\"\n",
        "password = \"f3ekNjEhzec0cYkx\"\n",
        "cluster = \"production.g8vjv.mongodb.net\"\n",
        "uri = f\"mongodb+srv://{username}:{password}@{cluster}/?retryWrites=true&w=majority\"\n",
        "\n",
        "client = MongoClient(uri)\n",
        "db = client[\"heroku_v801wdr2\"]\n",
        "collection = db[\"addresses\"]"
      ],
      "metadata": {
        "id": "Rf6Y6H6bS1pb"
      },
      "execution_count": 3,
      "outputs": []
    },
    {
      "cell_type": "code",
      "source": [
        "\n",
        "\n",
        "# ============================ #\n",
        "#    3. Data Cleaning/Prep     #\n",
        "# ============================ #\n",
        "\n",
        "ABBREVIATION_MAP = {\n",
        "    \"st\": \"street\", \"rd\": \"road\", \"ave\": \"avenue\", \"blvd\": \"boulevard\",\n",
        "    \"blk\": \"block\", \"bldg\": \"building\", \"apt\": \"apartment\", \"flr\": \"floor\",\n",
        "    \"mohd\": \"mohammed\", \"bn\": \"bin\", \"hwy\": \"highway\"\n",
        "}\n",
        "\n",
        "def normalize_text(text):\n",
        "    words = text.lower().split()\n",
        "    return \" \".join([ABBREVIATION_MAP.get(word, word) for word in words])\n",
        "\n",
        "def build_address(row):\n",
        "    parts = [\n",
        "        row.get(\"country\", \"\"), row.get(\"area\") or row.get(\"city\", \"\"),\n",
        "        f\"block {row.get('block')}\" if row.get(\"block\") else \"\",\n",
        "        row.get(\"street\", \"\"), row.get(\"buildingNumber\", \"\"),\n",
        "        row.get(\"apartment\", \"\"), row.get(\"floor\", \"\")\n",
        "    ]\n",
        "    return normalize_text(\" \".join([str(p) for p in parts if p]))\n",
        "\n",
        "def get_lat_lon(loc):\n",
        "    return loc.get(\"latitude\"), loc.get(\"longitude\") if isinstance(loc, dict) else (None, None)\n"
      ],
      "metadata": {
        "id": "EItdKjf-S7w1"
      },
      "execution_count": 4,
      "outputs": []
    },
    {
      "cell_type": "code",
      "source": [
        "\n",
        "# ========== Download and Clean Data ========= #\n",
        "def load_data(collection, limit=100_000):\n",
        "    cursor = collection.find({\n",
        "        \"deleted\": False,\n",
        "        \"rawStreet\": False,\n",
        "        \"location.latitude\": {\"$exists\": True},\n",
        "        \"location.longitude\": {\"$exists\": True}\n",
        "    }, {\n",
        "        \"_id\": 0, \"country\": 1, \"area\": 1, \"city\": 1, \"block\": 1,\n",
        "        \"street\": 1, \"buildingNumber\": 1, \"apartment\": 1, \"floor\": 1,\n",
        "        \"location\": 1\n",
        "    }).limit(limit)\n",
        "\n",
        "    df = pd.DataFrame(list(cursor))\n",
        "    df[\"input_text\"] = df.apply(build_address, axis=1)\n",
        "    df[[\"latitude\", \"longitude\"]] = df[\"location\"].apply(lambda x: pd.Series(get_lat_lon(x)))\n",
        "    df = df[[\"input_text\", \"latitude\", \"longitude\"]].dropna().drop_duplicates()\n",
        "    return df\n",
        "\n",
        "df = load_data(collection)\n",
        "print(\"📊 Data loaded:\", df.shape)\n"
      ],
      "metadata": {
        "colab": {
          "base_uri": "https://localhost:8080/"
        },
        "id": "lx0sR9-hTAuE",
        "outputId": "201d5f7e-5ecf-4ba8-9a4c-f7efa0b90ef9"
      },
      "execution_count": 5,
      "outputs": [
        {
          "output_type": "stream",
          "name": "stdout",
          "text": [
            "📊 Data loaded: (77797, 3)\n"
          ]
        }
      ]
    },
    {
      "cell_type": "markdown",
      "source": [
        "model_name = \"all-MiniLM-L6-v2\"  # ≈2x faster, still good quality\n"
      ],
      "metadata": {
        "id": "cHxz1mFtAGiJ"
      }
    },
    {
      "cell_type": "code",
      "source": [
        "# 6. Sentence embeddings\n",
        "model_name = \"paraphrase-MiniLM-L6-v2\"\n",
        "embedder = SentenceTransformer(model_name)\n",
        "\n",
        "batch_size = 512\n",
        "embeddings = []\n",
        "for i in tqdm(range(0, len(df), batch_size)):\n",
        "    batch = df[\"input_text\"].iloc[i:i+batch_size].tolist()\n",
        "    emb = embedder.encode(batch, batch_size=64, show_progress_bar=False)\n",
        "    embeddings.append(emb)\n",
        "X = np.vstack(embeddings)\n",
        "y = df[[\"latitude\", \"longitude\"]].values"
      ],
      "metadata": {
        "colab": {
          "base_uri": "https://localhost:8080/",
          "height": 497,
          "referenced_widgets": [
            "9744b5f2396d4cfbb00d2cadb25baaed",
            "e516a5f852814042b7daf218e58dd8af",
            "01deeb8c5dbf44edae47d1d0dfa159f7",
            "32d665f7301c45e2937c372e2df1c167",
            "a1cb2d8b01254a40bc5d1a795297e413",
            "7012cdb2db994ad3b7d2a0c7d96b2428",
            "86796ff51a064e9b976325521b192355",
            "b4563701aaa84adb99a468eb08390284",
            "d2f662ca64884a4380451eff18bfbc3f",
            "d83b339e2ed94c5590080e80d763246b",
            "282e1913eff14c31a9382fbb003c2eba",
            "002fcbd8dd874f95a2fec0f6b1f3a5b8",
            "6fd73594c9284a55b511e985c0196fd8",
            "2d1219de4c0f411e81bb9fd793cd1e2a",
            "b3e1fec9744144f3b0261d95688a8851",
            "1bad3b1cfc384fb99ae7d4f8832c27a1",
            "aae0496624c04c1f9746892c2fab72a4",
            "d615480b5d2d4835bb351ee49bc1b800",
            "ae7d5b51adbf46c986be6a1621df0286",
            "e5d1977bd03145b7bf57d42e84ba80c2",
            "68049c37897742d68c8988974df9f19f",
            "1489d56e6ee34d0a9a84a02f71de626b",
            "ea718090432e4a1f8135547b0d50dbba",
            "78acf6c619484a4d9f42456a80f398c4",
            "0a74a6e82f1544febe36fe86486a3ef8",
            "30a98affd50c4828b1d98f075b4b4580",
            "47d86d0d6b944b2cacd7ef90dbe0cdfe",
            "7127cd5b11c04b26b2f64e7c6fcd8321",
            "2dcd6a0df9d645f8b3af7b93445e124b",
            "e6fbd537abbf48ca948fc9dcca017415",
            "49c1a8c00d334213bc7e4fa7e1cedfc8",
            "2a22e18d27124e5f934a2ef9c356f169",
            "4c86fb342e75431da89b5b39bf9a714e",
            "745c9de0b79d4b778a3225d115fa6f2f",
            "5d4c145786a0443a853f1949e7980c80",
            "494139b2194c43caac574e8602c19a6e",
            "6993767da28043a99be269f3c4d0d7f9",
            "a05c45d84d09442db82f96ce2d0bb142",
            "e4dbe901952041588ba451dbf0074a98",
            "7a38eba04b7f46c9a6fef76f29e5bd72",
            "cd9ea94338744542be65d9b90dea20eb",
            "15ae64ddf1e84e6f92e606181970cc42",
            "8c8f6828f50744119127adcba8150ad9",
            "85e21382a5974261b7338d78d4d5f42e",
            "c4ad67db20da4ae2b1545f398d4c9b24",
            "cf4460cd3c1a446dbabfb887b39ac42e",
            "9874594656b1499a810c18992dd2bb41",
            "2419d1166ba54390a5d18fc0508702a2",
            "e8fc207f89944d08a0a61ee7d7b7c8d8",
            "075f578e6d1b4570836ae16ff3063e9f",
            "3028e4700abe418b987b3d60e9e5e612",
            "fc886c6474bb40f49b9c28bacf37f6b4",
            "04f8731bb9344d6b9959b8094b110e2f",
            "e723448045074e31b0b727d66667641a",
            "0183497eaedc41c09a66b39d3a06ef1c",
            "95b8736b387843febc723be29251da1f",
            "e0633e7a400f4ccc96d5a882a0de8281",
            "78dedded15614cb897187d3b220e58b7",
            "ee4a7458c2b948f0acb4a662a4c709aa",
            "8cf5aeeccdca4e91a2e664363f81952d",
            "32d067001c99460fb06791f80b0a04b6",
            "7f022adf502047078d341c73f40291c8",
            "176e5f2659b1487396a62dccb2578abb",
            "1bf11ce54a06499ba85d7b01788232b5",
            "43e8c146fe8f4244956dc28c7fda4e72",
            "554fe52858394b7a90944543709ea681",
            "63d953b731a64538b7a3a04a50546ed3",
            "33c38e39f4b84ee7af78f567e76da569",
            "38f5ebbb19b343cb863b0ba5f6259a4a",
            "186146fb09224991badf5bc5e6331d95",
            "f2a65506dafb48bfbae6ada6c0dfe882",
            "a1842ec59f594801b15d39304fb15f6d",
            "a447795ce4de41be9191409044bc4e2d",
            "572f48e0a93f4ffb92828b89339b8270",
            "9075edda033e42ef8f01a8d434cea6d6",
            "851563f1f84049c6aef2b60309c6de3d",
            "e4b17f85f6ca495d8d7333c3989f1c2d",
            "61f37717cc0441bcb8fc06c5e60bac8f",
            "8a320d5fffa446bc8453becca58e99de",
            "709b13bbacca4c398da9efaad56071b8",
            "1736416770e64ce892dda82aab75e7fb",
            "ee185a1e60e941d59ece7b47bd4f2e4a",
            "bdedd5f6d4b9415599efa956f1628bf6",
            "d0293113343b40899045b5af811fffb9",
            "3b36c46c8e314e19b3dda168a735f236",
            "61c38696e3464898910a443cc62cd9ab",
            "9b8a4c0ad8164eabb0f0f97ebf2012d8",
            "33674af9ab8d4bfc841d83a035c127b6",
            "55c6f360b4564c558164b49c1ab390d3",
            "ff996fc8a205474aaf4cacfedc4f6276",
            "4cbf2d530a6c4a2186ab7ae9bb12625e",
            "8f5dff5ec7f648529741c958f915042d",
            "0c579bd6f4b14a42a2fe5b2cda012f25",
            "61e64daf94064cb9b784bb1e62195f32",
            "970e01313dc34f509a56616ab748772f",
            "3ffd46dd7fe24f94acf7de0aeee95b8f",
            "5d969787759041e4b3f020c0550dd5f3",
            "26e59f8215f34b1db3745087c7881d80",
            "b10e0a662cce4695a11035aecc8eabde",
            "4e6735424a3d43dc99782bb68717f0d9",
            "243d639badd74bd885b226135a977979",
            "23fd66dc1db3493bb754544cd7d59ca7",
            "ecf6f57e6b2b4934907b63f0db3898a9",
            "a883d2d069f34c20981499e602c3a492",
            "130b76ba10f844868309cb304ed12df9",
            "42ab19e17ee24248ae2c022a5c1e1ede",
            "b1af876ee41f46af960c54abd97884f7",
            "8548eca8b05d40e5afaaae4874d2f802",
            "d94c6774a05b4f438c2a71e7d8af3985",
            "28383f5a2ee14f8f90f4f296690469ce",
            "23c0fd79542b4a588b6809f8eb936e34",
            "de25ac6128bd4028b7d79339bc2e9076",
            "f59abcc6d7a54eaebc7c6b34a6d25cc0",
            "98b5c7a3105f4742a8a78bc5e97ba962",
            "aacb9cd196ff4518bad3d3ef9044730d",
            "a87f3970e73e40db929e445cf470c597",
            "772a43df2cd242b49fda612a4626cd74",
            "0f0a5c3902eb4a82983168520c6bf65e",
            "92da6622259747f89c64a4dec4f58ba5",
            "1f90dd2dc94b4023b2440b86cf7a479f",
            "40de69f2334d438c9b6ec730635120a1"
          ]
        },
        "id": "YJPQt_KGTCz_",
        "outputId": "b8490b78-c508-496c-c71e-1c8f44b894b9"
      },
      "execution_count": 6,
      "outputs": [
        {
          "output_type": "stream",
          "name": "stderr",
          "text": [
            "/usr/local/lib/python3.11/dist-packages/huggingface_hub/utils/_auth.py:94: UserWarning: \n",
            "The secret `HF_TOKEN` does not exist in your Colab secrets.\n",
            "To authenticate with the Hugging Face Hub, create a token in your settings tab (https://huggingface.co/settings/tokens), set it as secret in your Google Colab and restart your session.\n",
            "You will be able to reuse this secret in all of your notebooks.\n",
            "Please note that authentication is recommended but still optional to access public models or datasets.\n",
            "  warnings.warn(\n"
          ]
        },
        {
          "output_type": "display_data",
          "data": {
            "text/plain": [
              "modules.json:   0%|          | 0.00/229 [00:00<?, ?B/s]"
            ],
            "application/vnd.jupyter.widget-view+json": {
              "version_major": 2,
              "version_minor": 0,
              "model_id": "9744b5f2396d4cfbb00d2cadb25baaed"
            }
          },
          "metadata": {}
        },
        {
          "output_type": "display_data",
          "data": {
            "text/plain": [
              "config_sentence_transformers.json:   0%|          | 0.00/122 [00:00<?, ?B/s]"
            ],
            "application/vnd.jupyter.widget-view+json": {
              "version_major": 2,
              "version_minor": 0,
              "model_id": "002fcbd8dd874f95a2fec0f6b1f3a5b8"
            }
          },
          "metadata": {}
        },
        {
          "output_type": "display_data",
          "data": {
            "text/plain": [
              "README.md: 0.00B [00:00, ?B/s]"
            ],
            "application/vnd.jupyter.widget-view+json": {
              "version_major": 2,
              "version_minor": 0,
              "model_id": "ea718090432e4a1f8135547b0d50dbba"
            }
          },
          "metadata": {}
        },
        {
          "output_type": "display_data",
          "data": {
            "text/plain": [
              "sentence_bert_config.json:   0%|          | 0.00/53.0 [00:00<?, ?B/s]"
            ],
            "application/vnd.jupyter.widget-view+json": {
              "version_major": 2,
              "version_minor": 0,
              "model_id": "745c9de0b79d4b778a3225d115fa6f2f"
            }
          },
          "metadata": {}
        },
        {
          "output_type": "display_data",
          "data": {
            "text/plain": [
              "config.json:   0%|          | 0.00/629 [00:00<?, ?B/s]"
            ],
            "application/vnd.jupyter.widget-view+json": {
              "version_major": 2,
              "version_minor": 0,
              "model_id": "c4ad67db20da4ae2b1545f398d4c9b24"
            }
          },
          "metadata": {}
        },
        {
          "output_type": "display_data",
          "data": {
            "text/plain": [
              "model.safetensors:   0%|          | 0.00/90.9M [00:00<?, ?B/s]"
            ],
            "application/vnd.jupyter.widget-view+json": {
              "version_major": 2,
              "version_minor": 0,
              "model_id": "95b8736b387843febc723be29251da1f"
            }
          },
          "metadata": {}
        },
        {
          "output_type": "display_data",
          "data": {
            "text/plain": [
              "tokenizer_config.json:   0%|          | 0.00/314 [00:00<?, ?B/s]"
            ],
            "application/vnd.jupyter.widget-view+json": {
              "version_major": 2,
              "version_minor": 0,
              "model_id": "63d953b731a64538b7a3a04a50546ed3"
            }
          },
          "metadata": {}
        },
        {
          "output_type": "display_data",
          "data": {
            "text/plain": [
              "vocab.txt: 0.00B [00:00, ?B/s]"
            ],
            "application/vnd.jupyter.widget-view+json": {
              "version_major": 2,
              "version_minor": 0,
              "model_id": "61f37717cc0441bcb8fc06c5e60bac8f"
            }
          },
          "metadata": {}
        },
        {
          "output_type": "display_data",
          "data": {
            "text/plain": [
              "tokenizer.json: 0.00B [00:00, ?B/s]"
            ],
            "application/vnd.jupyter.widget-view+json": {
              "version_major": 2,
              "version_minor": 0,
              "model_id": "55c6f360b4564c558164b49c1ab390d3"
            }
          },
          "metadata": {}
        },
        {
          "output_type": "display_data",
          "data": {
            "text/plain": [
              "special_tokens_map.json:   0%|          | 0.00/112 [00:00<?, ?B/s]"
            ],
            "application/vnd.jupyter.widget-view+json": {
              "version_major": 2,
              "version_minor": 0,
              "model_id": "4e6735424a3d43dc99782bb68717f0d9"
            }
          },
          "metadata": {}
        },
        {
          "output_type": "display_data",
          "data": {
            "text/plain": [
              "config.json:   0%|          | 0.00/190 [00:00<?, ?B/s]"
            ],
            "application/vnd.jupyter.widget-view+json": {
              "version_major": 2,
              "version_minor": 0,
              "model_id": "23c0fd79542b4a588b6809f8eb936e34"
            }
          },
          "metadata": {}
        },
        {
          "output_type": "stream",
          "name": "stderr",
          "text": [
            "100%|██████████| 152/152 [13:17<00:00,  5.25s/it]\n"
          ]
        }
      ]
    },
    {
      "cell_type": "code",
      "source": [
        "# 7. Train/test split\n",
        "X_train, X_test, y_train, y_test = train_test_split(X, y, test_size=0.2, random_state=42)\n"
      ],
      "metadata": {
        "id": "3VzGJW9xTEkb"
      },
      "execution_count": 7,
      "outputs": []
    },
    {
      "cell_type": "code",
      "source": [
        "#Haversine Evaluation Function\n",
        "\n",
        "from math import radians, cos, sin, asin, sqrt\n",
        "\n",
        "def haversine(lat1, lon1, lat2, lon2):\n",
        "    lat1, lon1, lat2, lon2 = map(radians, [lat1, lon1, lat2, lon2])\n",
        "    dlat = lat2 - lat1\n",
        "    dlon = lon2 - lon1\n",
        "    a = sin(dlat / 2)**2 + cos(lat1) * cos(lat2) * sin(dlon / 2)**2\n",
        "    return 6371000 * 2 * asin(sqrt(a))  # meters\n",
        "\n",
        "def eval_model(y_true, y_pred):\n",
        "    rmse = np.sqrt(mean_squared_error(y_true, y_pred))\n",
        "    mae = mean_absolute_error(y_true, y_pred)\n",
        "    r2 = r2_score(y_true, y_pred)\n",
        "    distances = [haversine(a[0], a[1], b[0], b[1]) for a, b in zip(y_true, y_pred)]\n",
        "    print(f\"RMSE: {rmse:.5f}\")\n",
        "    print(f\"MAE: {mae:.5f}\")\n",
        "    print(f\"R²: {r2:.5f}\")\n",
        "    print(f\"Mean distance: {np.mean(distances):.2f} meters\")\n",
        "    print(f\"Median distance: {np.median(distances):.2f} meters\")\n"
      ],
      "metadata": {
        "id": "e4uPV6Gw8AdI"
      },
      "execution_count": 8,
      "outputs": []
    },
    {
      "cell_type": "markdown",
      "source": [
        "#Training"
      ],
      "metadata": {
        "id": "8K1s7B41a7p9"
      }
    },
    {
      "cell_type": "code",
      "source": [
        "xgb_model = MultiOutputRegressor(\n",
        "    XGBRegressor(\n",
        "        objective='reg:squarederror',\n",
        "        n_estimators=300,\n",
        "        max_depth=8,\n",
        "        learning_rate=0.05,\n",
        "        subsample=0.9,\n",
        "        colsample_bytree=0.8,\n",
        "        n_jobs=-1,\n",
        "        random_state=42\n",
        "    )\n",
        ")\n",
        "xgb_model.fit(X_train, y_train)\n",
        "y_pred = xgb_model.predict(X_test)\n",
        "print(\"🔷 XGBoost Evaluation:\")\n",
        "eval_model(y_test, y_pred)\n"
      ],
      "metadata": {
        "colab": {
          "base_uri": "https://localhost:8080/"
        },
        "id": "UdmHYmB6a-1u",
        "outputId": "9f6be152-9515-4410-d725-2ad7cdac8d1d"
      },
      "execution_count": 9,
      "outputs": [
        {
          "output_type": "stream",
          "name": "stdout",
          "text": [
            "🔷 XGBoost Evaluation:\n",
            "RMSE: 0.05021\n",
            "MAE: 0.01474\n",
            "R²: 0.90221\n",
            "Mean distance: 2401.12 meters\n",
            "Median distance: 1385.76 meters\n"
          ]
        }
      ]
    },
    {
      "cell_type": "code",
      "source": [
        "lgbm_model = MultiOutputRegressor(\n",
        "    LGBMRegressor(\n",
        "        n_estimators=300,\n",
        "        num_leaves=40,\n",
        "        learning_rate=0.05,\n",
        "        random_state=42,\n",
        "        n_jobs=-1\n",
        "    )\n",
        ")\n",
        "lgbm_model.fit(X_train, y_train)\n",
        "y_pred = lgbm_model.predict(X_test)\n",
        "print(\"🟢 LightGBM Evaluation:\")\n",
        "eval_model(y_test, y_pred)\n"
      ],
      "metadata": {
        "colab": {
          "base_uri": "https://localhost:8080/"
        },
        "id": "d6ENPvJGa_w8",
        "outputId": "c5ae664a-bba0-47f6-aadf-f4eaf3f25921"
      },
      "execution_count": 10,
      "outputs": [
        {
          "output_type": "stream",
          "name": "stderr",
          "text": [
            "/usr/local/lib/python3.11/dist-packages/sklearn/utils/deprecation.py:151: FutureWarning: 'force_all_finite' was renamed to 'ensure_all_finite' in 1.6 and will be removed in 1.8.\n",
            "  warnings.warn(\n"
          ]
        },
        {
          "output_type": "stream",
          "name": "stdout",
          "text": [
            "[LightGBM] [Info] Auto-choosing col-wise multi-threading, the overhead of testing was 0.729008 seconds.\n",
            "You can set `force_col_wise=true` to remove the overhead.\n",
            "[LightGBM] [Info] Total Bins 97920\n",
            "[LightGBM] [Info] Number of data points in the train set: 62237, number of used features: 384\n",
            "[LightGBM] [Info] Start training from score 29.263305\n"
          ]
        },
        {
          "output_type": "stream",
          "name": "stderr",
          "text": [
            "/usr/local/lib/python3.11/dist-packages/sklearn/utils/deprecation.py:151: FutureWarning: 'force_all_finite' was renamed to 'ensure_all_finite' in 1.6 and will be removed in 1.8.\n",
            "  warnings.warn(\n"
          ]
        },
        {
          "output_type": "stream",
          "name": "stdout",
          "text": [
            "[LightGBM] [Info] Auto-choosing col-wise multi-threading, the overhead of testing was 0.832377 seconds.\n",
            "You can set `force_col_wise=true` to remove the overhead.\n",
            "[LightGBM] [Info] Total Bins 97920\n",
            "[LightGBM] [Info] Number of data points in the train set: 62237, number of used features: 384\n",
            "[LightGBM] [Info] Start training from score 48.006480\n"
          ]
        },
        {
          "output_type": "stream",
          "name": "stderr",
          "text": [
            "/usr/local/lib/python3.11/dist-packages/sklearn/utils/deprecation.py:151: FutureWarning: 'force_all_finite' was renamed to 'ensure_all_finite' in 1.6 and will be removed in 1.8.\n",
            "  warnings.warn(\n",
            "/usr/local/lib/python3.11/dist-packages/sklearn/utils/deprecation.py:151: FutureWarning: 'force_all_finite' was renamed to 'ensure_all_finite' in 1.6 and will be removed in 1.8.\n",
            "  warnings.warn(\n"
          ]
        },
        {
          "output_type": "stream",
          "name": "stdout",
          "text": [
            "🟢 LightGBM Evaluation:\n",
            "RMSE: 0.05773\n",
            "MAE: 0.01707\n",
            "R²: 0.87090\n",
            "Mean distance: 2781.10 meters\n",
            "Median distance: 1696.46 meters\n"
          ]
        }
      ]
    },
    {
      "cell_type": "code",
      "source": [
        "scaler_X = StandardScaler()\n",
        "scaler_y = StandardScaler()\n",
        "\n",
        "X_train_scaled = scaler_X.fit_transform(X_train)\n",
        "X_test_scaled = scaler_X.transform(X_test)\n",
        "y_train_scaled = scaler_y.fit_transform(y_train)\n",
        "y_test_scaled = scaler_y.transform(y_test)\n",
        "\n",
        "X_train_t = torch.tensor(X_train_scaled, dtype=torch.float32)\n",
        "y_train_t = torch.tensor(y_train_scaled, dtype=torch.float32)\n",
        "X_test_t = torch.tensor(X_test_scaled, dtype=torch.float32)\n",
        "y_test_t = torch.tensor(y_test_scaled, dtype=torch.float32)\n",
        "\n",
        "train_loader = DataLoader(TensorDataset(X_train_t, y_train_t), batch_size=128, shuffle=True)\n",
        "\n",
        "class GeoNN(nn.Module):\n",
        "    def __init__(self, input_dim):\n",
        "        super().__init__()\n",
        "        self.net = nn.Sequential(\n",
        "            nn.Linear(input_dim, 256),\n",
        "            nn.ReLU(),\n",
        "            nn.Dropout(0.2),\n",
        "            nn.Linear(256, 128),\n",
        "            nn.ReLU(),\n",
        "            nn.Linear(128, 2)\n",
        "        )\n",
        "    def forward(self, x): return self.net(x)\n",
        "\n",
        "device = torch.device(\"cuda\" if torch.cuda.is_available() else \"cpu\")\n",
        "model = GeoNN(X_train.shape[1]).to(device)\n",
        "optimizer = torch.optim.Adam(model.parameters(), lr=1e-3)\n",
        "criterion = nn.MSELoss()\n",
        "\n",
        "# Training\n",
        "model.train()\n",
        "for epoch in range(30):\n",
        "    total_loss = 0\n",
        "    for xb, yb in train_loader:\n",
        "        xb, yb = xb.to(device), yb.to(device)\n",
        "        optimizer.zero_grad()\n",
        "        loss = criterion(model(xb), yb)\n",
        "        loss.backward()\n",
        "        optimizer.step()\n",
        "        total_loss += loss.item() * xb.size(0)\n",
        "    if epoch % 5 == 0 or epoch == 29:\n",
        "        print(f\"Epoch {epoch+1}: Loss = {total_loss / len(train_loader.dataset):.4f}\")\n"
      ],
      "metadata": {
        "colab": {
          "base_uri": "https://localhost:8080/"
        },
        "id": "90puHPp0bBm8",
        "outputId": "d562bcea-fc2d-4260-ac23-ab26bf8ff577"
      },
      "execution_count": 11,
      "outputs": [
        {
          "output_type": "stream",
          "name": "stdout",
          "text": [
            "Epoch 1: Loss = 0.4117\n",
            "Epoch 6: Loss = 0.3302\n",
            "Epoch 11: Loss = 0.3233\n",
            "Epoch 16: Loss = 0.3120\n",
            "Epoch 21: Loss = 0.3157\n",
            "Epoch 26: Loss = 0.2913\n",
            "Epoch 30: Loss = 0.3138\n"
          ]
        }
      ]
    },
    {
      "cell_type": "code",
      "source": [
        "model.eval()\n",
        "with torch.no_grad():\n",
        "    pred_scaled = model(X_test_t.to(device)).cpu().numpy()\n",
        "    preds = scaler_y.inverse_transform(pred_scaled)\n",
        "\n",
        "print(\"🔴 DNN Evaluation:\")\n",
        "eval_model(y_test, preds)\n"
      ],
      "metadata": {
        "colab": {
          "base_uri": "https://localhost:8080/"
        },
        "id": "_mNvQjg88taZ",
        "outputId": "78134e13-54d8-49a2-ff28-26673f2f8628"
      },
      "execution_count": 12,
      "outputs": [
        {
          "output_type": "stream",
          "name": "stdout",
          "text": [
            "🔴 DNN Evaluation:\n",
            "RMSE: 0.03622\n",
            "MAE: 0.00816\n",
            "R²: 0.94978\n",
            "Mean distance: 1337.08 meters\n",
            "Median distance: 908.07 meters\n"
          ]
        }
      ]
    }
  ]
}